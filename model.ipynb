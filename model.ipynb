{
 "cells": [
  {
   "cell_type": "markdown",
   "metadata": {
    "id": "qUz92UOnp1KF"
   },
   "source": [
    "# VGG16"
   ]
  },
  {
   "cell_type": "code",
   "execution_count": null,
   "metadata": {
    "execution": {
     "iopub.status.busy": "2023-06-21T16:03:10.118157Z",
     "iopub.status.idle": "2023-06-21T16:03:10.118861Z",
     "shell.execute_reply": "2023-06-21T16:03:10.118639Z",
     "shell.execute_reply.started": "2023-06-21T16:03:10.118618Z"
    },
    "trusted": true
   },
   "outputs": [],
   "source": [
    "!rm -f /kaggle/working/model_*"
   ]
  },
  {
   "cell_type": "code",
   "execution_count": 3,
   "metadata": {
    "execution": {
     "iopub.execute_input": "2023-06-24T14:53:36.031505Z",
     "iopub.status.busy": "2023-06-24T14:53:36.031142Z",
     "iopub.status.idle": "2023-06-24T14:53:38.357819Z",
     "shell.execute_reply": "2023-06-24T14:53:38.356807Z",
     "shell.execute_reply.started": "2023-06-24T14:53:36.031478Z"
    },
    "id": "FZYQxRxdmGpD",
    "trusted": true
   },
   "outputs": [],
   "source": [
    "import numpy as np\n",
    "import torch as tr\n",
    "import torch.nn as nn\n",
    "from torch.utils.data import DataLoader\n",
    "from torchvision import transforms\n",
    "from torch.optim import AdamW, SGD\n",
    "from torch.utils.data.sampler import SubsetRandomSampler\n",
    "import torch.nn.init as init \n",
    "from torch.optim.lr_scheduler import CosineAnnealingLR\n",
    "\n",
    "from sklearn.utils.class_weight import compute_class_weight\n",
    "\n",
    "from sklearn.model_selection import train_test_split, GridSearchCV\n",
    "\n",
    "from sklearn.metrics import classification_report, confusion_matrix\n",
    "import seaborn as sns\n",
    "\n",
    "import sys\n",
    "sys.path.insert(1, '/kaggle/input/ferdata-set')\n",
    "from FERData import FERDataset\n",
    "\n",
    "from glob import glob\n",
    "\n",
    "# Device configuration\n",
    "device = tr.device('cuda' if tr.cuda.is_available() else 'cpu')"
   ]
  },
  {
   "cell_type": "code",
   "execution_count": 4,
   "metadata": {
    "execution": {
     "iopub.execute_input": "2023-06-24T14:53:39.279317Z",
     "iopub.status.busy": "2023-06-24T14:53:39.278721Z",
     "iopub.status.idle": "2023-06-24T14:53:39.425630Z",
     "shell.execute_reply": "2023-06-24T14:53:39.424755Z",
     "shell.execute_reply.started": "2023-06-24T14:53:39.279285Z"
    },
    "id": "0X2Y1Xchm7QP",
    "trusted": true
   },
   "outputs": [],
   "source": [
    "kaggle_path = '/kaggle/input/fer2013-custom'\n",
    "\n",
    "train_transforms = transforms.Compose(\n",
    "    [\n",
    "        transforms.Resize((224, 224)),\n",
    "        transforms.RandomHorizontalFlip(),\n",
    "        transforms.ToTensor()\n",
    "    ]\n",
    ")\n",
    "\n",
    "val_transforms = transforms.Compose(\n",
    "    [\n",
    "        transforms.Resize((224, 224)),\n",
    "        transforms.ToTensor()\n",
    "    ]\n",
    ")\n",
    "\n",
    "train_dataset = FERDataset(kaggle_path + '/dataset/train', transform = train_transforms)\n",
    "val_dataset = FERDataset(kaggle_path + '/dataset/val', transform = val_transforms)\n",
    "test_dataset =  FERDataset(kaggle_path + '/dataset/test', transform = val_transforms)"
   ]
  },
  {
   "cell_type": "code",
   "execution_count": 5,
   "metadata": {
    "execution": {
     "iopub.execute_input": "2023-06-24T14:53:39.428080Z",
     "iopub.status.busy": "2023-06-24T14:53:39.427288Z",
     "iopub.status.idle": "2023-06-24T14:53:39.433860Z",
     "shell.execute_reply": "2023-06-24T14:53:39.432968Z",
     "shell.execute_reply.started": "2023-06-24T14:53:39.428045Z"
    },
    "id": "uQpfd89InQBR",
    "trusted": true
   },
   "outputs": [],
   "source": [
    "batch_size = 16\n",
    "train_dataLoader = DataLoader(train_dataset, batch_size, shuffle=True)\n",
    "test_dataLoader = DataLoader(test_dataset, batch_size, shuffle=True)\n",
    "\n",
    "val_dataLoader = DataLoader(val_dataset, batch_size, shuffle= True)"
   ]
  },
  {
   "cell_type": "code",
   "execution_count": 6,
   "metadata": {
    "execution": {
     "iopub.execute_input": "2023-06-24T14:53:39.535879Z",
     "iopub.status.busy": "2023-06-24T14:53:39.535624Z",
     "iopub.status.idle": "2023-06-24T14:53:39.559696Z",
     "shell.execute_reply": "2023-06-24T14:53:39.558570Z",
     "shell.execute_reply.started": "2023-06-24T14:53:39.535855Z"
    },
    "id": "sxj9jzEVmIBs",
    "trusted": true
   },
   "outputs": [],
   "source": [
    "class VGG16(nn.Module):\n",
    "    def __init__(self, num_classes=10):\n",
    "        super(VGG16, self).__init__()\n",
    "        self.layer1 = nn.Sequential(\n",
    "            nn.Conv2d(3, 64, kernel_size=3, stride=1, padding=1),\n",
    "            nn.BatchNorm2d(64),\n",
    "            nn.ReLU())\n",
    "        self.layer2 = nn.Sequential(\n",
    "            nn.Conv2d(64, 64, kernel_size=3, stride=1, padding=1),\n",
    "            nn.BatchNorm2d(64),\n",
    "            nn.ReLU(),\n",
    "            nn.MaxPool2d(kernel_size = 2, stride = 2))\n",
    "        self.layer3 = nn.Sequential(\n",
    "            nn.Conv2d(64, 128, kernel_size=3, stride=1, padding=1),\n",
    "            nn.BatchNorm2d(128),\n",
    "            nn.ReLU())\n",
    "        self.layer4 = nn.Sequential(\n",
    "            nn.Conv2d(128, 128, kernel_size=3, stride=1, padding=1),\n",
    "            nn.BatchNorm2d(128),\n",
    "            nn.ReLU(),\n",
    "            nn.MaxPool2d(kernel_size = 2, stride = 2))\n",
    "        self.layer5 = nn.Sequential(\n",
    "            nn.Conv2d(128, 256, kernel_size=3, stride=1, padding=1),\n",
    "            nn.BatchNorm2d(256),\n",
    "            nn.ReLU())\n",
    "        self.layer6 = nn.Sequential(\n",
    "            nn.Conv2d(256, 256, kernel_size=3, stride=1, padding=1),\n",
    "            nn.BatchNorm2d(256),\n",
    "            nn.ReLU())\n",
    "        self.layer7 = nn.Sequential(\n",
    "            nn.Conv2d(256, 256, kernel_size=3, stride=1, padding=1),\n",
    "            nn.BatchNorm2d(256),\n",
    "            nn.ReLU(),\n",
    "            nn.MaxPool2d(kernel_size = 2, stride = 2))\n",
    "        self.layer8 = nn.Sequential(\n",
    "            nn.Conv2d(256, 512, kernel_size=3, stride=1, padding=1),\n",
    "            nn.BatchNorm2d(512),\n",
    "            nn.ReLU())\n",
    "        self.layer9 = nn.Sequential(\n",
    "            nn.Conv2d(512, 512, kernel_size=3, stride=1, padding=1),\n",
    "            nn.BatchNorm2d(512),\n",
    "            nn.ReLU())\n",
    "        self.layer10 = nn.Sequential(\n",
    "            nn.Conv2d(512, 512, kernel_size=3, stride=1, padding=1),\n",
    "            nn.BatchNorm2d(512),\n",
    "            nn.ReLU(),\n",
    "            nn.MaxPool2d(kernel_size = 2, stride = 2))\n",
    "        self.layer11 = nn.Sequential(\n",
    "            nn.Conv2d(512, 512, kernel_size=3, stride=1, padding=1),\n",
    "            nn.BatchNorm2d(512),\n",
    "            nn.ReLU())\n",
    "        self.layer12 = nn.Sequential(\n",
    "            nn.Conv2d(512, 512, kernel_size=3, stride=1, padding=1),\n",
    "            nn.BatchNorm2d(512),\n",
    "            nn.ReLU())\n",
    "        self.layer13 = nn.Sequential(\n",
    "            nn.Conv2d(512, 512, kernel_size=3, stride=1, padding=1),\n",
    "            nn.BatchNorm2d(512),\n",
    "            nn.ReLU(),\n",
    "            nn.MaxPool2d(kernel_size = 2, stride = 2))\n",
    "        self.fc = nn.Sequential(\n",
    "            nn.Dropout(0.5),\n",
    "            nn.Linear(7*7*512, 4096),\n",
    "            nn.ReLU())\n",
    "        self.fc1 = nn.Sequential(\n",
    "            nn.Dropout(0.5),\n",
    "            nn.Linear(4096, 4096),\n",
    "            nn.ReLU())\n",
    "        self.fc2= nn.Sequential(\n",
    "            nn.Linear(4096, num_classes))\n",
    "        \n",
    "    def initialize_weights(self, m):\n",
    "        if isinstance(m, nn.Conv2d) or isinstance(m, nn.Linear):\n",
    "            init.xavier_uniform_(m.weight)\n",
    "            if m.bias is not None:\n",
    "                init.constant_(m.bias, 0.0)\n",
    "\n",
    "    def forward(self, x):\n",
    "        out = self.layer1(x)\n",
    "        out = self.layer2(out)\n",
    "        out = self.layer3(out)\n",
    "        out = self.layer4(out)\n",
    "        out = self.layer5(out)\n",
    "        out = self.layer6(out)\n",
    "        out = self.layer7(out)\n",
    "        out = self.layer8(out)\n",
    "        out = self.layer9(out)\n",
    "        out = self.layer10(out)\n",
    "        out = self.layer11(out)\n",
    "        out = self.layer12(out)\n",
    "        out = self.layer13(out)\n",
    "        out = out.view(out.size(0), -1)\n",
    "        out = self.fc(out)\n",
    "        out = self.fc1(out)\n",
    "        out = self.fc2(out)\n",
    "        return out"
   ]
  },
  {
   "cell_type": "code",
   "execution_count": 7,
   "metadata": {
    "execution": {
     "iopub.execute_input": "2023-06-24T14:53:40.130117Z",
     "iopub.status.busy": "2023-06-24T14:53:40.129767Z",
     "iopub.status.idle": "2023-06-24T14:53:40.139381Z",
     "shell.execute_reply": "2023-06-24T14:53:40.138084Z",
     "shell.execute_reply.started": "2023-06-24T14:53:40.130089Z"
    },
    "id": "TJPjkpDNn63Y",
    "trusted": true
   },
   "outputs": [],
   "source": [
    "def train(dataLoader, model, optimizer, lossf, lr_scheduler=None):\n",
    "    model.train()\n",
    "    losses = []\n",
    "    total = 0\n",
    "    correct = 0\n",
    "    t = 0\n",
    "    \n",
    "    for img, label in dataLoader:\n",
    "        t += 1\n",
    "        t_imgs = img.to(device, dtype=tr.float)\n",
    "        t_labels = label.to(device, dtype=tr.int64)\n",
    "        \n",
    "        optimizer.zero_grad()\n",
    "        \n",
    "        prediction = model(t_imgs)\n",
    "        loss = lossf(prediction, t_labels)\n",
    "        losses.append(loss.item())\n",
    "        \n",
    "        loss.backward()\n",
    "        optimizer.step()\n",
    "        \n",
    "        _, predicted = tr.max(prediction, 1)\n",
    "        total += t_labels.size(0)\n",
    "        correct += (predicted == t_labels).sum().item()\n",
    "        \n",
    "        if t % 16 == 0:\n",
    "            print('|', end='')\n",
    "    \n",
    "    train_loss = np.average(losses)\n",
    "    train_acc = 100.0 * correct / total\n",
    "    \n",
    "    print('Train loss is %.3f' % train_loss)\n",
    "    print('In %d pictures, %d are predicted right' % (total, correct))\n",
    "    print('Training acc is %.4f%%' % train_acc)\n",
    "    \n",
    "    return\n"
   ]
  },
  {
   "cell_type": "code",
   "execution_count": 8,
   "metadata": {
    "execution": {
     "iopub.execute_input": "2023-06-24T14:53:40.420888Z",
     "iopub.status.busy": "2023-06-24T14:53:40.420603Z",
     "iopub.status.idle": "2023-06-24T14:53:40.428302Z",
     "shell.execute_reply": "2023-06-24T14:53:40.427272Z",
     "shell.execute_reply.started": "2023-06-24T14:53:40.420855Z"
    },
    "id": "UnJaSf2qouZC",
    "trusted": true
   },
   "outputs": [],
   "source": [
    "def test(dataLoader, model, lossf):\n",
    "  model.eval()\n",
    "  losses, predictions, labels = np.array([]), np.array([]), np.array([])\n",
    "  result = []\n",
    "\n",
    "  for img, label in dataLoader:\n",
    "\n",
    "    t_imgs = img.to(device, dtype=tr.float)\n",
    "    t_labels = label.to(device, dtype=tr.int64)\n",
    "    labels = np.append(labels, t_labels.cpu())\n",
    "\n",
    "    output = model(t_imgs)\n",
    "    _, prediction = tr.max(output, 1)\n",
    "    predictions = np.append(predictions, prediction.cpu())\n",
    "\n",
    "    #create result\n",
    "    result.append(list(zip(img, label, prediction.cpu())))\n",
    "\n",
    "    loss = lossf(output, t_labels)\n",
    "    losses = np.append(losses, loss.item())\n",
    "\n",
    "  return np.average(losses), predictions, labels, result"
   ]
  },
  {
   "cell_type": "code",
   "execution_count": 9,
   "metadata": {
    "execution": {
     "iopub.execute_input": "2023-06-24T14:53:40.894506Z",
     "iopub.status.busy": "2023-06-24T14:53:40.894158Z",
     "iopub.status.idle": "2023-06-24T14:53:40.906462Z",
     "shell.execute_reply": "2023-06-24T14:53:40.905379Z",
     "shell.execute_reply.started": "2023-06-24T14:53:40.894479Z"
    },
    "id": "XTKIpOPD3yzc",
    "trusted": true
   },
   "outputs": [],
   "source": [
    "def val(dataLoader, model, lossf):\n",
    "    model.eval()\n",
    "    losses, predictions, labels = [], [], []\n",
    "    result = []\n",
    "\n",
    "    total = 0\n",
    "    correct = 0\n",
    "\n",
    "    for img, label in dataLoader:\n",
    "        t_imgs = img.to(device, dtype=tr.float)\n",
    "        t_labels = label.to(device, dtype=tr.int64)\n",
    "        labels.extend(t_labels.cpu().tolist())\n",
    "\n",
    "        with tr.no_grad():\n",
    "            output = model(t_imgs)\n",
    "            _, prediction = tr.max(output, 1)\n",
    "            predictions.extend(prediction.cpu().tolist())\n",
    "\n",
    "        # Create result\n",
    "        result.extend(list(zip(img, label, prediction.cpu().numpy())))\n",
    "\n",
    "        loss = lossf(output, t_labels)\n",
    "        losses.append(loss.item())\n",
    "\n",
    "        total += t_labels.size(0)\n",
    "        correct += (prediction ==  t_labels).sum().item()\n",
    "\n",
    "    test_acc = 100.0 * correct / total\n",
    "\n",
    "    print('One test epoch is over')\n",
    "    print('In %d pictures, %d are predicted right' % (total, correct))\n",
    "    print('Validation acc is %.4f%%' % test_acc)\n",
    "\n",
    "    return sum(losses)/len(losses), predictions, labels, result\n"
   ]
  },
  {
   "cell_type": "code",
   "execution_count": 10,
   "metadata": {
    "execution": {
     "iopub.execute_input": "2023-06-24T14:53:41.709109Z",
     "iopub.status.busy": "2023-06-24T14:53:41.708723Z",
     "iopub.status.idle": "2023-06-24T14:53:41.718186Z",
     "shell.execute_reply": "2023-06-24T14:53:41.717009Z",
     "shell.execute_reply.started": "2023-06-24T14:53:41.709079Z"
    },
    "id": "tBPgmGT4tEOk",
    "trusted": true
   },
   "outputs": [],
   "source": [
    "def run(train_dataLoader, val_dataLoader, model, optimizer, lossf, lr_scheduler=None, epochs=50):\n",
    "    es_counter = 0  # counter early stopping\n",
    "    es_limit = 100  # epoch limit for early stopping\n",
    "\n",
    "    best_model = model\n",
    "    best_epoch = None\n",
    "    min_avgLosses = float('inf')\n",
    "\n",
    "    for epoch in range(epochs):\n",
    "        train(train_dataLoader, model, optimizer, lossf, lr_scheduler)\n",
    "\n",
    "        val_avgLosses, _, _, _ = val(val_dataLoader, model, lossf)\n",
    "        print(f'Epoch {epoch} - Validation Loss: {val_avgLosses}')\n",
    "\n",
    "        if val_avgLosses < min_avgLosses:\n",
    "            min_avgLosses = val_avgLosses\n",
    "            best_epoch = epoch\n",
    "            best_model = model\n",
    "            es_counter = 0\n",
    "        else:\n",
    "            es_counter += 1\n",
    "\n",
    "        if es_counter > es_limit - 1:\n",
    "            print('---- EARLY STOPPING -----')\n",
    "            break\n",
    "\n",
    "    print(f'---> Best epoch: {best_epoch}')\n",
    "    return best_model, min_avgLosses\n"
   ]
  },
  {
   "cell_type": "code",
   "execution_count": null,
   "metadata": {},
   "outputs": [],
   "source": [
    "def load_checkpoint(filepath, phase):\n",
    "    \n",
    "    checkpoint = torch.load(filepath)\n",
    "    model = checkpoint['model']\n",
    "    model.load_state_dict(checkpoint['state_dict'])\n",
    "    \n",
    "    if phase == 'test':\n",
    "        for parameter in model.parameters():\n",
    "            parameter.requires_grad = False\n",
    "\n",
    "        model.eval()\n",
    "    \n",
    "    return model"
   ]
  },
  {
   "cell_type": "code",
   "execution_count": 14,
   "metadata": {
    "execution": {
     "iopub.execute_input": "2023-06-24T14:54:24.263728Z",
     "iopub.status.busy": "2023-06-24T14:54:24.263373Z",
     "iopub.status.idle": "2023-06-24T14:54:31.072190Z",
     "shell.execute_reply": "2023-06-24T14:54:31.070874Z",
     "shell.execute_reply.started": "2023-06-24T14:54:24.263701Z"
    },
    "id": "o7--V2mmvapI",
    "outputId": "2389f077-033c-4608-f4f5-9aa05c94c127",
    "trusted": true
   },
   "outputs": [
    {
     "name": "stdout",
     "output_type": "stream",
     "text": [
      "/kaggle/input/model-1/model_1.0309 caricato!\n"
     ]
    },
    {
     "ename": "KeyboardInterrupt",
     "evalue": "",
     "output_type": "error",
     "traceback": [
      "\u001b[0;31m---------------------------------------------------------------------------\u001b[0m",
      "\u001b[0;31mKeyboardInterrupt\u001b[0m                         Traceback (most recent call last)",
      "Cell \u001b[0;32mIn[14], line 23\u001b[0m\n\u001b[1;32m     19\u001b[0m epochs \u001b[38;5;241m=\u001b[39m \u001b[38;5;241m50\u001b[39m\n\u001b[1;32m     21\u001b[0m \u001b[38;5;66;03m#lr_scheduler = CosineAnnealingLR(optimizer, T_max=epochs*len(train_dataLoader), eta_min=0)\u001b[39;00m\n\u001b[0;32m---> 23\u001b[0m best_model, min_avgLosses \u001b[38;5;241m=\u001b[39m \u001b[43mrun\u001b[49m\u001b[43m(\u001b[49m\u001b[43mtrain_dataLoader\u001b[49m\u001b[43m,\u001b[49m\u001b[43m \u001b[49m\u001b[43mval_dataLoader\u001b[49m\u001b[43m,\u001b[49m\u001b[43m \u001b[49m\u001b[43mmodel\u001b[49m\u001b[43m,\u001b[49m\u001b[43m \u001b[49m\u001b[43moptimizer\u001b[49m\u001b[43m,\u001b[49m\u001b[43m \u001b[49m\u001b[43mlossf\u001b[49m\u001b[43m,\u001b[49m\u001b[43mlr_scheduler\u001b[49m\u001b[38;5;241;43m=\u001b[39;49m\u001b[38;5;28;43;01mNone\u001b[39;49;00m\u001b[43m,\u001b[49m\u001b[43m \u001b[49m\u001b[43mepochs\u001b[49m\u001b[38;5;241;43m=\u001b[39;49m\u001b[43mepochs\u001b[49m\u001b[43m)\u001b[49m\n\u001b[1;32m     25\u001b[0m checkpoint \u001b[38;5;241m=\u001b[39m {\u001b[38;5;124m'\u001b[39m\u001b[38;5;124mmodel\u001b[39m\u001b[38;5;124m'\u001b[39m: VGG16(\u001b[38;5;241m7\u001b[39m),\n\u001b[1;32m     26\u001b[0m               \u001b[38;5;124m'\u001b[39m\u001b[38;5;124mstate_dict\u001b[39m\u001b[38;5;124m'\u001b[39m: best_model\u001b[38;5;241m.\u001b[39mstate_dict(),\n\u001b[1;32m     27\u001b[0m               \u001b[38;5;124m'\u001b[39m\u001b[38;5;124moptimizer\u001b[39m\u001b[38;5;124m'\u001b[39m : optimizer\u001b[38;5;241m.\u001b[39mstate_dict()}\n\u001b[1;32m     29\u001b[0m tr\u001b[38;5;241m.\u001b[39msave(checkpoint, \u001b[38;5;124mf\u001b[39m\u001b[38;5;124m'\u001b[39m\u001b[38;5;124mcheckpoint_\u001b[39m\u001b[38;5;132;01m{\u001b[39;00mmin_avgLosses\u001b[38;5;132;01m}\u001b[39;00m\u001b[38;5;124m.pth\u001b[39m\u001b[38;5;124m'\u001b[39m)\n",
      "Cell \u001b[0;32mIn[10], line 10\u001b[0m, in \u001b[0;36mrun\u001b[0;34m(train_dataLoader, val_dataLoader, model, optimizer, lossf, lr_scheduler, epochs)\u001b[0m\n\u001b[1;32m      7\u001b[0m min_avgLosses \u001b[38;5;241m=\u001b[39m \u001b[38;5;28mfloat\u001b[39m(\u001b[38;5;124m'\u001b[39m\u001b[38;5;124minf\u001b[39m\u001b[38;5;124m'\u001b[39m)\n\u001b[1;32m      9\u001b[0m \u001b[38;5;28;01mfor\u001b[39;00m epoch \u001b[38;5;129;01min\u001b[39;00m \u001b[38;5;28mrange\u001b[39m(epochs):\n\u001b[0;32m---> 10\u001b[0m     \u001b[43mtrain\u001b[49m\u001b[43m(\u001b[49m\u001b[43mtrain_dataLoader\u001b[49m\u001b[43m,\u001b[49m\u001b[43m \u001b[49m\u001b[43mmodel\u001b[49m\u001b[43m,\u001b[49m\u001b[43m \u001b[49m\u001b[43moptimizer\u001b[49m\u001b[43m,\u001b[49m\u001b[43m \u001b[49m\u001b[43mlossf\u001b[49m\u001b[43m,\u001b[49m\u001b[43m \u001b[49m\u001b[43mlr_scheduler\u001b[49m\u001b[43m)\u001b[49m\n\u001b[1;32m     12\u001b[0m     val_avgLosses, _, _, _ \u001b[38;5;241m=\u001b[39m val(val_dataLoader, model, lossf)\n\u001b[1;32m     13\u001b[0m     \u001b[38;5;28mprint\u001b[39m(\u001b[38;5;124mf\u001b[39m\u001b[38;5;124m'\u001b[39m\u001b[38;5;124mEpoch \u001b[39m\u001b[38;5;132;01m{\u001b[39;00mepoch\u001b[38;5;132;01m}\u001b[39;00m\u001b[38;5;124m - Validation Loss: \u001b[39m\u001b[38;5;132;01m{\u001b[39;00mval_avgLosses\u001b[38;5;132;01m}\u001b[39;00m\u001b[38;5;124m'\u001b[39m)\n",
      "Cell \u001b[0;32mIn[7], line 24\u001b[0m, in \u001b[0;36mtrain\u001b[0;34m(dataLoader, model, optimizer, lossf, lr_scheduler)\u001b[0m\n\u001b[1;32m     22\u001b[0m _, predicted \u001b[38;5;241m=\u001b[39m tr\u001b[38;5;241m.\u001b[39mmax(prediction, \u001b[38;5;241m1\u001b[39m)\n\u001b[1;32m     23\u001b[0m total \u001b[38;5;241m+\u001b[39m\u001b[38;5;241m=\u001b[39m t_labels\u001b[38;5;241m.\u001b[39msize(\u001b[38;5;241m0\u001b[39m)\n\u001b[0;32m---> 24\u001b[0m correct \u001b[38;5;241m+\u001b[39m\u001b[38;5;241m=\u001b[39m \u001b[43m(\u001b[49m\u001b[43mpredicted\u001b[49m\u001b[43m \u001b[49m\u001b[38;5;241;43m==\u001b[39;49m\u001b[43m \u001b[49m\u001b[43mt_labels\u001b[49m\u001b[43m)\u001b[49m\u001b[38;5;241;43m.\u001b[39;49m\u001b[43msum\u001b[49m\u001b[43m(\u001b[49m\u001b[43m)\u001b[49m\u001b[38;5;241;43m.\u001b[39;49m\u001b[43mitem\u001b[49m\u001b[43m(\u001b[49m\u001b[43m)\u001b[49m\n\u001b[1;32m     26\u001b[0m \u001b[38;5;28;01mif\u001b[39;00m t \u001b[38;5;241m%\u001b[39m \u001b[38;5;241m16\u001b[39m \u001b[38;5;241m==\u001b[39m \u001b[38;5;241m0\u001b[39m:\n\u001b[1;32m     27\u001b[0m     \u001b[38;5;28mprint\u001b[39m(\u001b[38;5;124m'\u001b[39m\u001b[38;5;124m|\u001b[39m\u001b[38;5;124m'\u001b[39m, end\u001b[38;5;241m=\u001b[39m\u001b[38;5;124m'\u001b[39m\u001b[38;5;124m'\u001b[39m)\n",
      "\u001b[0;31mKeyboardInterrupt\u001b[0m: "
     ]
    }
   ],
   "source": [
    "model = VGG16(7).to(device)\n",
    "model.apply(model.initialize_weights)\n",
    "# set if you want best last trained model\n",
    "best_model_flag = True\n",
    "if best_model_flag:\n",
    "    models_list = glob('/kaggle/input/model-1/model_*')\n",
    "    if models_list:\n",
    "        best_last_model = sorted(models_list)[0]\n",
    "        model.load_state_dict(tr.load(best_last_model).state_dict())\n",
    "        print(f'{best_last_model} caricato!')\n",
    "    else:\n",
    "        print('Errore nel recupero del modello')\n",
    "else:\n",
    "  print('Caricato modello Vanilla!')\n",
    "\n",
    "optimizer = SGD(model.parameters(),lr = 0.0001, momentum=0.9, weight_decay=5e-4)\n",
    "lossf = nn.CrossEntropyLoss()\n",
    "\n",
    "epochs = 50\n",
    "\n",
    "#lr_scheduler = CosineAnnealingLR(optimizer, T_max=epochs*len(train_dataLoader), eta_min=0)\n",
    "\n",
    "best_model, min_avgLosses = run(train_dataLoader, val_dataLoader, model, optimizer, lossf,lr_scheduler=None, epochs=epochs)\n",
    "\n",
    "checkpoint = {'model': VGG16(7),\n",
    "              'state_dict': best_model.state_dict(),\n",
    "              'optimizer' : optimizer.state_dict()}\n",
    "\n",
    "tr.save(checkpoint, f'checkpoint_{min_avgLosses}.pth')"
   ]
  },
  {
   "cell_type": "code",
   "execution_count": 15,
   "metadata": {
    "execution": {
     "iopub.execute_input": "2023-06-24T14:54:33.717914Z",
     "iopub.status.busy": "2023-06-24T14:54:33.717548Z",
     "iopub.status.idle": "2023-06-24T14:54:34.163731Z",
     "shell.execute_reply": "2023-06-24T14:54:34.162765Z",
     "shell.execute_reply.started": "2023-06-24T14:54:33.717883Z"
    },
    "trusted": true
   },
   "outputs": [
    {
     "name": "stdout",
     "output_type": "stream",
     "text": [
      "/kaggle/input/model-1/model_1.0309 caricato!\n"
     ]
    }
   ],
   "source": [
    "best_model_flag = True\n",
    "if best_model_flag:\n",
    "    models_list = glob('/kaggle/input/model-1/model_*')\n",
    "    if models_list:\n",
    "        best_last_model = sorted(models_list)[0]\n",
    "        model.load_state_dict(tr.load(best_last_model).state_dict())\n",
    "        print(f'{best_last_model} caricato!')\n",
    "    else:\n",
    "        print('Errore nel recupero del modello')"
   ]
  },
  {
   "cell_type": "code",
   "execution_count": 27,
   "metadata": {
    "execution": {
     "iopub.execute_input": "2023-06-24T14:41:15.750849Z",
     "iopub.status.busy": "2023-06-24T14:41:15.750440Z",
     "iopub.status.idle": "2023-06-24T14:41:39.468704Z",
     "shell.execute_reply": "2023-06-24T14:41:39.467665Z",
     "shell.execute_reply.started": "2023-06-24T14:41:15.750815Z"
    },
    "id": "pVn7yafrZxCV",
    "trusted": true
   },
   "outputs": [
    {
     "name": "stdout",
     "output_type": "stream",
     "text": [
      "One test epoch is over\n",
      "In 2868 pictures, 1715 are predicted right\n",
      "Validation acc is 59.7978%\n",
      "              precision    recall  f1-score   support\n",
      "\n",
      "           0     0.7492    0.7256    0.7372       317\n",
      "           1     0.5179    0.2836    0.3665       409\n",
      "           2     0.6571    0.4035    0.5000       399\n",
      "           3     0.5905    0.5262    0.5565       496\n",
      "           4     0.3843    0.7391    0.5057       483\n",
      "           5     0.6000    0.2791    0.3810        43\n",
      "           6     0.8245    0.8017    0.8129       721\n",
      "\n",
      "    accuracy                         0.5980      2868\n",
      "   macro avg     0.6176    0.5370    0.5514      2868\n",
      "weighted avg     0.6312    0.5980    0.5948      2868\n",
      "\n"
     ]
    }
   ],
   "source": [
    "#carico il miglior modello dal train nel modello attuale\n",
    "#model.load_state_dict(best_model.state_dict())\n",
    "\n",
    "val_avgLosess, val_predictions, val_labels, val_result = val(val_dataLoader, model, lossf)\n",
    "print(classification_report(val_labels, val_predictions, digits=4))"
   ]
  },
  {
   "cell_type": "code",
   "execution_count": 28,
   "metadata": {
    "execution": {
     "iopub.execute_input": "2023-06-24T14:42:11.554538Z",
     "iopub.status.busy": "2023-06-24T14:42:11.554159Z",
     "iopub.status.idle": "2023-06-24T14:43:35.762628Z",
     "shell.execute_reply": "2023-06-24T14:43:35.760752Z",
     "shell.execute_reply.started": "2023-06-24T14:42:11.554508Z"
    },
    "id": "Vijy1FgDFEbt",
    "outputId": "054d61ca-3cfd-4957-c716-f5c855e53db4",
    "trusted": true
   },
   "outputs": [
    {
     "name": "stdout",
     "output_type": "stream",
     "text": [
      "              precision    recall  f1-score   support\n",
      "\n",
      "         0.0     0.7385    0.7341    0.7363       831\n",
      "         1.0     0.5067    0.2598    0.3434      1024\n",
      "         2.0     0.6120    0.4165    0.4957       958\n",
      "         3.0     0.5887    0.5061    0.5443      1233\n",
      "         4.0     0.3804    0.7322    0.5007      1247\n",
      "         5.0     0.6571    0.4144    0.5083       111\n",
      "         6.0     0.8450    0.7835    0.8131      1774\n",
      "\n",
      "    accuracy                         0.5918      7178\n",
      "   macro avg     0.6183    0.5495    0.5631      7178\n",
      "weighted avg     0.6257    0.5918    0.5897      7178\n",
      "\n"
     ]
    }
   ],
   "source": [
    "#carico il miglior modello dal train nel modello attuale\n",
    "#model.load_state_dict(best_model)\n",
    "\n",
    "test_avgLosess, test_predictions, test_labels, test_result = test(test_dataLoader, model, lossf)\n",
    "print(classification_report(test_labels, test_predictions, digits=4))"
   ]
  },
  {
   "cell_type": "code",
   "execution_count": 63,
   "metadata": {
    "cellView": "form",
    "execution": {
     "iopub.execute_input": "2023-06-24T15:12:43.690336Z",
     "iopub.status.busy": "2023-06-24T15:12:43.689940Z",
     "iopub.status.idle": "2023-06-24T15:12:43.735091Z",
     "shell.execute_reply": "2023-06-24T15:12:43.733959Z",
     "shell.execute_reply.started": "2023-06-24T15:12:43.690307Z"
    },
    "id": "daQSbyG9vsJ1",
    "trusted": true
   },
   "outputs": [
    {
     "ename": "NameError",
     "evalue": "name 'test_result' is not defined",
     "output_type": "error",
     "traceback": [
      "\u001b[0;31m---------------------------------------------------------------------------\u001b[0m",
      "\u001b[0;31mNameError\u001b[0m                                 Traceback (most recent call last)",
      "Cell \u001b[0;32mIn[63], line 3\u001b[0m\n\u001b[1;32m      1\u001b[0m \u001b[38;5;66;03m#@title\u001b[39;00m\n\u001b[1;32m      2\u001b[0m \u001b[38;5;28;01mimport\u001b[39;00m \u001b[38;5;21;01mmatplotlib\u001b[39;00m\u001b[38;5;21;01m.\u001b[39;00m\u001b[38;5;21;01mpyplot\u001b[39;00m \u001b[38;5;28;01mas\u001b[39;00m \u001b[38;5;21;01mplt\u001b[39;00m\n\u001b[0;32m----> 3\u001b[0m \u001b[38;5;28mprint\u001b[39m(\u001b[43mtest_result\u001b[49m[\u001b[38;5;241m1\u001b[39m][\u001b[38;5;241m1\u001b[39m])\n\u001b[1;32m      5\u001b[0m \u001b[38;5;28;01mdef\u001b[39;00m \u001b[38;5;21mplot_figure\u001b[39m(test_result):\n\u001b[1;32m      6\u001b[0m   fig, ax \u001b[38;5;241m=\u001b[39m plt\u001b[38;5;241m.\u001b[39msubplots(\u001b[38;5;241m6\u001b[39m, \u001b[38;5;241m6\u001b[39m)\n",
      "\u001b[0;31mNameError\u001b[0m: name 'test_result' is not defined"
     ]
    }
   ],
   "source": [
    "#@title\n",
    "import matplotlib.pyplot as plt\n",
    "print(test_result[1][1])\n",
    "\n",
    "def plot_figure(test_result):\n",
    "  fig, ax = plt.subplots(6, 6)\n",
    "  for i, axi in enumerate(ax.flat):\n",
    "    img, lb, pr = test_result[1][i]\n",
    "    axi.imshow(img.reshape(3, 224, 224), cmap='gray')\n",
    "    axi.set(xticks=[], yticks=[])\n",
    "    axi.set_ylabel(f'{lb} - P:{pr}',\n",
    "                    color='black' if lb == pr else 'red')\n",
    "  fig.suptitle('Predicted Emotion; Incorrect Labels in Red', size=14);"
   ]
  },
  {
   "cell_type": "code",
   "execution_count": 40,
   "metadata": {
    "execution": {
     "iopub.execute_input": "2023-06-24T14:46:12.157728Z",
     "iopub.status.busy": "2023-06-24T14:46:12.157377Z",
     "iopub.status.idle": "2023-06-24T14:46:15.384028Z",
     "shell.execute_reply": "2023-06-24T14:46:15.382440Z",
     "shell.execute_reply.started": "2023-06-24T14:46:12.157699Z"
    },
    "id": "HY_RQRCbnOzO",
    "outputId": "0049bea5-74d3-4e4c-cc2a-71178188ecb4",
    "trusted": true
   },
   "outputs": [
    {
     "ename": "TypeError",
     "evalue": "Invalid shape (3, 224, 224) for image data",
     "output_type": "error",
     "traceback": [
      "\u001b[0;31m---------------------------------------------------------------------------\u001b[0m",
      "\u001b[0;31mTypeError\u001b[0m                                 Traceback (most recent call last)",
      "Cell \u001b[0;32mIn[40], line 1\u001b[0m\n\u001b[0;32m----> 1\u001b[0m \u001b[43mplot_figure\u001b[49m\u001b[43m(\u001b[49m\u001b[43mtest_result\u001b[49m\u001b[43m)\u001b[49m\n",
      "Cell \u001b[0;32mIn[39], line 9\u001b[0m, in \u001b[0;36mplot_figure\u001b[0;34m(test_result)\u001b[0m\n\u001b[1;32m      7\u001b[0m \u001b[38;5;28;01mfor\u001b[39;00m i, axi \u001b[38;5;129;01min\u001b[39;00m \u001b[38;5;28menumerate\u001b[39m(ax\u001b[38;5;241m.\u001b[39mflat):\n\u001b[1;32m      8\u001b[0m   img, lb, pr \u001b[38;5;241m=\u001b[39m test_result[\u001b[38;5;241m1\u001b[39m][i]\n\u001b[0;32m----> 9\u001b[0m   \u001b[43maxi\u001b[49m\u001b[38;5;241;43m.\u001b[39;49m\u001b[43mimshow\u001b[49m\u001b[43m(\u001b[49m\u001b[43mimg\u001b[49m\u001b[38;5;241;43m.\u001b[39;49m\u001b[43mreshape\u001b[49m\u001b[43m(\u001b[49m\u001b[38;5;241;43m3\u001b[39;49m\u001b[43m,\u001b[49m\u001b[43m \u001b[49m\u001b[38;5;241;43m224\u001b[39;49m\u001b[43m,\u001b[49m\u001b[43m \u001b[49m\u001b[38;5;241;43m224\u001b[39;49m\u001b[43m)\u001b[49m\u001b[43m,\u001b[49m\u001b[43m \u001b[49m\u001b[43mcmap\u001b[49m\u001b[38;5;241;43m=\u001b[39;49m\u001b[38;5;124;43m'\u001b[39;49m\u001b[38;5;124;43mgray\u001b[39;49m\u001b[38;5;124;43m'\u001b[39;49m\u001b[43m)\u001b[49m\n\u001b[1;32m     10\u001b[0m   axi\u001b[38;5;241m.\u001b[39mset(xticks\u001b[38;5;241m=\u001b[39m[], yticks\u001b[38;5;241m=\u001b[39m[])\n\u001b[1;32m     11\u001b[0m   axi\u001b[38;5;241m.\u001b[39mset_ylabel(\u001b[38;5;124mf\u001b[39m\u001b[38;5;124m'\u001b[39m\u001b[38;5;132;01m{\u001b[39;00mlb\u001b[38;5;132;01m}\u001b[39;00m\u001b[38;5;124m - P:\u001b[39m\u001b[38;5;132;01m{\u001b[39;00mpr\u001b[38;5;132;01m}\u001b[39;00m\u001b[38;5;124m'\u001b[39m,\n\u001b[1;32m     12\u001b[0m                   color\u001b[38;5;241m=\u001b[39m\u001b[38;5;124m'\u001b[39m\u001b[38;5;124mblack\u001b[39m\u001b[38;5;124m'\u001b[39m \u001b[38;5;28;01mif\u001b[39;00m lb \u001b[38;5;241m==\u001b[39m pr \u001b[38;5;28;01melse\u001b[39;00m \u001b[38;5;124m'\u001b[39m\u001b[38;5;124mred\u001b[39m\u001b[38;5;124m'\u001b[39m)\n",
      "File \u001b[0;32m/opt/conda/lib/python3.10/site-packages/matplotlib/__init__.py:1442\u001b[0m, in \u001b[0;36m_preprocess_data.<locals>.inner\u001b[0;34m(ax, data, *args, **kwargs)\u001b[0m\n\u001b[1;32m   1439\u001b[0m \u001b[38;5;129m@functools\u001b[39m\u001b[38;5;241m.\u001b[39mwraps(func)\n\u001b[1;32m   1440\u001b[0m \u001b[38;5;28;01mdef\u001b[39;00m \u001b[38;5;21minner\u001b[39m(ax, \u001b[38;5;241m*\u001b[39margs, data\u001b[38;5;241m=\u001b[39m\u001b[38;5;28;01mNone\u001b[39;00m, \u001b[38;5;241m*\u001b[39m\u001b[38;5;241m*\u001b[39mkwargs):\n\u001b[1;32m   1441\u001b[0m     \u001b[38;5;28;01mif\u001b[39;00m data \u001b[38;5;129;01mis\u001b[39;00m \u001b[38;5;28;01mNone\u001b[39;00m:\n\u001b[0;32m-> 1442\u001b[0m         \u001b[38;5;28;01mreturn\u001b[39;00m \u001b[43mfunc\u001b[49m\u001b[43m(\u001b[49m\u001b[43max\u001b[49m\u001b[43m,\u001b[49m\u001b[43m \u001b[49m\u001b[38;5;241;43m*\u001b[39;49m\u001b[38;5;28;43mmap\u001b[39;49m\u001b[43m(\u001b[49m\u001b[43msanitize_sequence\u001b[49m\u001b[43m,\u001b[49m\u001b[43m \u001b[49m\u001b[43margs\u001b[49m\u001b[43m)\u001b[49m\u001b[43m,\u001b[49m\u001b[43m \u001b[49m\u001b[38;5;241;43m*\u001b[39;49m\u001b[38;5;241;43m*\u001b[39;49m\u001b[43mkwargs\u001b[49m\u001b[43m)\u001b[49m\n\u001b[1;32m   1444\u001b[0m     bound \u001b[38;5;241m=\u001b[39m new_sig\u001b[38;5;241m.\u001b[39mbind(ax, \u001b[38;5;241m*\u001b[39margs, \u001b[38;5;241m*\u001b[39m\u001b[38;5;241m*\u001b[39mkwargs)\n\u001b[1;32m   1445\u001b[0m     auto_label \u001b[38;5;241m=\u001b[39m (bound\u001b[38;5;241m.\u001b[39marguments\u001b[38;5;241m.\u001b[39mget(label_namer)\n\u001b[1;32m   1446\u001b[0m                   \u001b[38;5;129;01mor\u001b[39;00m bound\u001b[38;5;241m.\u001b[39mkwargs\u001b[38;5;241m.\u001b[39mget(label_namer))\n",
      "File \u001b[0;32m/opt/conda/lib/python3.10/site-packages/matplotlib/axes/_axes.py:5665\u001b[0m, in \u001b[0;36mAxes.imshow\u001b[0;34m(self, X, cmap, norm, aspect, interpolation, alpha, vmin, vmax, origin, extent, interpolation_stage, filternorm, filterrad, resample, url, **kwargs)\u001b[0m\n\u001b[1;32m   5657\u001b[0m \u001b[38;5;28mself\u001b[39m\u001b[38;5;241m.\u001b[39mset_aspect(aspect)\n\u001b[1;32m   5658\u001b[0m im \u001b[38;5;241m=\u001b[39m mimage\u001b[38;5;241m.\u001b[39mAxesImage(\u001b[38;5;28mself\u001b[39m, cmap\u001b[38;5;241m=\u001b[39mcmap, norm\u001b[38;5;241m=\u001b[39mnorm,\n\u001b[1;32m   5659\u001b[0m                       interpolation\u001b[38;5;241m=\u001b[39minterpolation, origin\u001b[38;5;241m=\u001b[39morigin,\n\u001b[1;32m   5660\u001b[0m                       extent\u001b[38;5;241m=\u001b[39mextent, filternorm\u001b[38;5;241m=\u001b[39mfilternorm,\n\u001b[1;32m   5661\u001b[0m                       filterrad\u001b[38;5;241m=\u001b[39mfilterrad, resample\u001b[38;5;241m=\u001b[39mresample,\n\u001b[1;32m   5662\u001b[0m                       interpolation_stage\u001b[38;5;241m=\u001b[39minterpolation_stage,\n\u001b[1;32m   5663\u001b[0m                       \u001b[38;5;241m*\u001b[39m\u001b[38;5;241m*\u001b[39mkwargs)\n\u001b[0;32m-> 5665\u001b[0m \u001b[43mim\u001b[49m\u001b[38;5;241;43m.\u001b[39;49m\u001b[43mset_data\u001b[49m\u001b[43m(\u001b[49m\u001b[43mX\u001b[49m\u001b[43m)\u001b[49m\n\u001b[1;32m   5666\u001b[0m im\u001b[38;5;241m.\u001b[39mset_alpha(alpha)\n\u001b[1;32m   5667\u001b[0m \u001b[38;5;28;01mif\u001b[39;00m im\u001b[38;5;241m.\u001b[39mget_clip_path() \u001b[38;5;129;01mis\u001b[39;00m \u001b[38;5;28;01mNone\u001b[39;00m:\n\u001b[1;32m   5668\u001b[0m     \u001b[38;5;66;03m# image does not already have clipping set, clip to axes patch\u001b[39;00m\n",
      "File \u001b[0;32m/opt/conda/lib/python3.10/site-packages/matplotlib/image.py:710\u001b[0m, in \u001b[0;36m_ImageBase.set_data\u001b[0;34m(self, A)\u001b[0m\n\u001b[1;32m    706\u001b[0m     \u001b[38;5;28mself\u001b[39m\u001b[38;5;241m.\u001b[39m_A \u001b[38;5;241m=\u001b[39m \u001b[38;5;28mself\u001b[39m\u001b[38;5;241m.\u001b[39m_A[:, :, \u001b[38;5;241m0\u001b[39m]\n\u001b[1;32m    708\u001b[0m \u001b[38;5;28;01mif\u001b[39;00m \u001b[38;5;129;01mnot\u001b[39;00m (\u001b[38;5;28mself\u001b[39m\u001b[38;5;241m.\u001b[39m_A\u001b[38;5;241m.\u001b[39mndim \u001b[38;5;241m==\u001b[39m \u001b[38;5;241m2\u001b[39m\n\u001b[1;32m    709\u001b[0m         \u001b[38;5;129;01mor\u001b[39;00m \u001b[38;5;28mself\u001b[39m\u001b[38;5;241m.\u001b[39m_A\u001b[38;5;241m.\u001b[39mndim \u001b[38;5;241m==\u001b[39m \u001b[38;5;241m3\u001b[39m \u001b[38;5;129;01mand\u001b[39;00m \u001b[38;5;28mself\u001b[39m\u001b[38;5;241m.\u001b[39m_A\u001b[38;5;241m.\u001b[39mshape[\u001b[38;5;241m-\u001b[39m\u001b[38;5;241m1\u001b[39m] \u001b[38;5;129;01min\u001b[39;00m [\u001b[38;5;241m3\u001b[39m, \u001b[38;5;241m4\u001b[39m]):\n\u001b[0;32m--> 710\u001b[0m     \u001b[38;5;28;01mraise\u001b[39;00m \u001b[38;5;167;01mTypeError\u001b[39;00m(\u001b[38;5;124m\"\u001b[39m\u001b[38;5;124mInvalid shape \u001b[39m\u001b[38;5;132;01m{}\u001b[39;00m\u001b[38;5;124m for image data\u001b[39m\u001b[38;5;124m\"\u001b[39m\n\u001b[1;32m    711\u001b[0m                     \u001b[38;5;241m.\u001b[39mformat(\u001b[38;5;28mself\u001b[39m\u001b[38;5;241m.\u001b[39m_A\u001b[38;5;241m.\u001b[39mshape))\n\u001b[1;32m    713\u001b[0m \u001b[38;5;28;01mif\u001b[39;00m \u001b[38;5;28mself\u001b[39m\u001b[38;5;241m.\u001b[39m_A\u001b[38;5;241m.\u001b[39mndim \u001b[38;5;241m==\u001b[39m \u001b[38;5;241m3\u001b[39m:\n\u001b[1;32m    714\u001b[0m     \u001b[38;5;66;03m# If the input data has values outside the valid range (after\u001b[39;00m\n\u001b[1;32m    715\u001b[0m     \u001b[38;5;66;03m# normalisation), we issue a warning and then clip X to the bounds\u001b[39;00m\n\u001b[1;32m    716\u001b[0m     \u001b[38;5;66;03m# - otherwise casting wraps extreme values, hiding outliers and\u001b[39;00m\n\u001b[1;32m    717\u001b[0m     \u001b[38;5;66;03m# making reliable interpretation impossible.\u001b[39;00m\n\u001b[1;32m    718\u001b[0m     high \u001b[38;5;241m=\u001b[39m \u001b[38;5;241m255\u001b[39m \u001b[38;5;28;01mif\u001b[39;00m np\u001b[38;5;241m.\u001b[39missubdtype(\u001b[38;5;28mself\u001b[39m\u001b[38;5;241m.\u001b[39m_A\u001b[38;5;241m.\u001b[39mdtype, np\u001b[38;5;241m.\u001b[39minteger) \u001b[38;5;28;01melse\u001b[39;00m \u001b[38;5;241m1\u001b[39m\n",
      "\u001b[0;31mTypeError\u001b[0m: Invalid shape (3, 224, 224) for image data"
     ]
    },
    {
     "data": {
      "image/png": "[encoded data removed]",
      "text/plain": [
       "<Figure size 640x480 with 36 Axes>"
      ]
     },
     "metadata": {},
     "output_type": "display_data"
    }
   ],
   "source": [
    "plot_figure(test_result)"
   ]
  },
  {
   "cell_type": "code",
   "execution_count": 45,
   "metadata": {
    "execution": {
     "iopub.execute_input": "2023-06-24T14:47:24.091632Z",
     "iopub.status.busy": "2023-06-24T14:47:24.091167Z",
     "iopub.status.idle": "2023-06-24T14:47:24.099491Z",
     "shell.execute_reply": "2023-06-24T14:47:24.098267Z",
     "shell.execute_reply.started": "2023-06-24T14:47:24.091597Z"
    },
    "id": "Z1kPGb4dojrx",
    "trusted": true
   },
   "outputs": [],
   "source": [
    "#@title\n",
    "from sklearn.metrics import confusion_matrix\n",
    "def get_confusion_matrix(test_labels, test_predictions, labels):\n",
    "\n",
    "  mat = confusion_matrix(test_labels, test_predictions)\n",
    "  sns.heatmap(mat.T, square=True, annot=True, fmt='d', cbar=False,\n",
    "              xticklabels=labels,\n",
    "              yticklabels=labels)\n",
    "  plt.xlabel('true label')\n",
    "  plt.ylabel('predicted label');\n",
    "  plt.title(best_last_model if best_last_model else 'First Model')"
   ]
  },
  {
   "cell_type": "code",
   "execution_count": 46,
   "metadata": {
    "execution": {
     "iopub.execute_input": "2023-06-24T14:47:24.232455Z",
     "iopub.status.busy": "2023-06-24T14:47:24.232152Z",
     "iopub.status.idle": "2023-06-24T14:47:24.669997Z",
     "shell.execute_reply": "2023-06-24T14:47:24.668988Z",
     "shell.execute_reply.started": "2023-06-24T14:47:24.232429Z"
    },
    "id": "54G2iv5-GgXT",
    "outputId": "5bf295d3-1808-4c4c-b729-1c135100d6fe",
    "trusted": true
   },
   "outputs": [
    {
     "name": "stdout",
     "output_type": "stream",
     "text": [
      "{'surprise': 0, 'fear': 1, 'angry': 2, 'neutral': 3, 'sad': 4, 'disgust': 5, 'happy': 6}\n"
     ]
    },
    {
     "data": {
      "image/png": "[encoded data removed]",
      "text/plain": [
       "<Figure size 640x480 with 1 Axes>"
      ]
     },
     "metadata": {},
     "output_type": "display_data"
    }
   ],
   "source": [
    "labels = test_dataset.labels.values()\n",
    "get_confusion_matrix(test_labels, test_predictions, labels)\n",
    "print(test_dataset.labels)"
   ]
  },
  {
   "cell_type": "code",
   "execution_count": 37,
   "metadata": {
    "execution": {
     "iopub.execute_input": "2023-06-24T15:01:05.228521Z",
     "iopub.status.busy": "2023-06-24T15:01:05.228080Z",
     "iopub.status.idle": "2023-06-24T15:01:05.398482Z",
     "shell.execute_reply": "2023-06-24T15:01:05.397535Z",
     "shell.execute_reply.started": "2023-06-24T15:01:05.228486Z"
    },
    "trusted": true
   },
   "outputs": [],
   "source": [
    "from PIL import Image\n",
    "import cv2"
   ]
  },
  {
   "cell_type": "code",
   "execution_count": 89,
   "metadata": {
    "execution": {
     "iopub.execute_input": "2023-06-24T15:33:12.223867Z",
     "iopub.status.busy": "2023-06-24T15:33:12.223488Z",
     "iopub.status.idle": "2023-06-24T15:33:12.234273Z",
     "shell.execute_reply": "2023-06-24T15:33:12.233232Z",
     "shell.execute_reply.started": "2023-06-24T15:33:12.223838Z"
    },
    "trusted": true
   },
   "outputs": [],
   "source": [
    "def doSomeMagic(image_path : str, model):\n",
    "    transform = transforms.Compose([\n",
    "        transforms.Resize((224, 224)),\n",
    "        transforms.ToTensor(),\n",
    "    ])\n",
    "    image = Image.open(image_path)\n",
    "    processed_image = transform(image)\n",
    "\n",
    "    input_image = processed_image.unsqueeze(0)  # Add a batch dimension\n",
    "\n",
    "    # Perform inference\n",
    "    with tr.no_grad():\n",
    "        output = model(input_image.to(device))\n",
    "\n",
    "    # Interpret the results\n",
    "    predicted_class = tr.argmax(output, dim=1).item()\n",
    "    getLabel = lambda value: next((key for key, val in train_dataset.labels.items() if val == value), None)\n",
    "    predicted_label =  getLabel(predicted_class)\n",
    "    \n",
    "    plt.title(predicted_label)\n",
    "    plt.imshow(image)"
   ]
  },
  {
   "cell_type": "code",
   "execution_count": null,
   "metadata": {},
   "outputs": [],
   "source": []
  }
 ],
 "metadata": {
  "kernelspec": {
   "display_name": "Python 3",
   "language": "python",
   "name": "python3"
  },
  "language_info": {
   "codemirror_mode": {
    "name": "ipython",
    "version": 3
   },
   "file_extension": ".py",
   "mimetype": "text/x-python",
   "name": "python",
   "nbconvert_exporter": "python",
   "pygments_lexer": "ipython3",
   "version": "3.10.10"
  }
 },
 "nbformat": 4,
 "nbformat_minor": 4
}
