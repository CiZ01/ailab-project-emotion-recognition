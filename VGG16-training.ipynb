{
  "cells": [
    {
      "cell_type": "code",
      "execution_count": 98,
      "metadata": {
        "id": "FZYQxRxdmGpD"
      },
      "outputs": [],
      "source": [
        "import numpy as np\n",
        "import torch as tf\n",
        "import torch.nn as nn\n",
        "from torchvision import datasets\n",
        "from torch.utils.data import DataLoader\n",
        "from torchvision import transforms\n",
        "from torch.optim import Adam\n",
        "from torch.utils.data.sampler import SubsetRandomSampler\n",
        "\n",
        "from sklearn.metrics import classification_report\n",
        "\n",
        "from FERData import FERDataset\n",
        "\n",
        "# Device configuration\n",
        "device = tf.device('cuda' if tf.cuda.is_available() else 'cpu')"
      ]
    },
    {
      "cell_type": "code",
      "execution_count": 8,
      "metadata": {
        "id": "0X2Y1Xchm7QP"
      },
      "outputs": [],
      "source": [
        "train_dataset = FERDataset('./dataset/train')\n",
        "test_dataset =  FERDataset('./dataset/test')"
      ]
    },
    {
      "cell_type": "code",
      "execution_count": 9,
      "metadata": {
        "id": "uQpfd89InQBR"
      },
      "outputs": [],
      "source": [
        "train_dataLoader = DataLoader(train_dataset, 64, shuffle=True)\n",
        "test_dataLoader = DataLoader(test_dataset, 64, shuffle=True)\n",
        "\n"
      ]
    },
    {
      "cell_type": "code",
      "execution_count": 80,
      "metadata": {
        "id": "sxj9jzEVmIBs"
      },
      "outputs": [],
      "source": [
        "class VGG16(nn.Module):\n",
        "    def __init__(self, num_classes=10):\n",
        "        super(VGG16, self).__init__()\n",
        "        self.layer1 = nn.Sequential(\n",
        "            nn.Conv2d(1, 64, kernel_size=3, stride=1, padding=1),\n",
        "            nn.BatchNorm2d(64),\n",
        "            nn.ReLU())\n",
        "        self.layer2 = nn.Sequential(\n",
        "            nn.Conv2d(64, 64, kernel_size=3, stride=1, padding=1),\n",
        "            nn.BatchNorm2d(64),\n",
        "            nn.ReLU(),\n",
        "            nn.MaxPool2d(kernel_size = 2, stride = 2))\n",
        "        self.layer3 = nn.Sequential(\n",
        "            nn.Conv2d(64, 128, kernel_size=3, stride=1, padding=1),\n",
        "            nn.BatchNorm2d(128),\n",
        "            nn.ReLU())\n",
        "        self.layer4 = nn.Sequential(\n",
        "            nn.Conv2d(128, 128, kernel_size=3, stride=1, padding=1),\n",
        "            nn.BatchNorm2d(128),\n",
        "            nn.ReLU(),\n",
        "            nn.MaxPool2d(kernel_size = 2, stride = 2))\n",
        "        self.layer5 = nn.Sequential(\n",
        "            nn.Conv2d(128, 256, kernel_size=3, stride=1, padding=1),\n",
        "            nn.BatchNorm2d(256),\n",
        "            nn.ReLU())\n",
        "        self.layer6 = nn.Sequential(\n",
        "            nn.Conv2d(256, 256, kernel_size=3, stride=1, padding=1),\n",
        "            nn.BatchNorm2d(256),\n",
        "            nn.ReLU())\n",
        "        self.layer7 = nn.Sequential(\n",
        "            nn.Conv2d(256, 256, kernel_size=3, stride=1, padding=1),\n",
        "            nn.BatchNorm2d(256),\n",
        "            nn.ReLU(),\n",
        "            nn.MaxPool2d(kernel_size = 2, stride = 2))\n",
        "        self.layer8 = nn.Sequential(\n",
        "            nn.Conv2d(256, 512, kernel_size=3, stride=1, padding=1),\n",
        "            nn.BatchNorm2d(512),\n",
        "            nn.ReLU())\n",
        "\n",
        "        self.fc = nn.Sequential(\n",
        "            nn.Dropout(0.5),\n",
        "            nn.Linear(6*6*512, 4096),\n",
        "            nn.ReLU())\n",
        "        self.fc1 = nn.Sequential(\n",
        "            nn.Dropout(0.5),\n",
        "            nn.Linear(4096, 4096),\n",
        "            nn.ReLU())\n",
        "        self.fc2= nn.Sequential(\n",
        "            nn.Linear(4096, num_classes))\n",
        "\n",
        "    def forward(self, x):\n",
        "        x = x[:,None,:,:]\n",
        "        out = self.layer1(x)\n",
        "        out = self.layer2(out)\n",
        "        out = self.layer3(out)\n",
        "        out = self.layer4(out)\n",
        "        out = self.layer5(out)\n",
        "        out = self.layer6(out)\n",
        "        out = self.layer7(out)\n",
        "        out = self.layer8(out)\n",
        "        out = out.reshape(out.size(0), -1)\n",
        "        out = self.fc(out)\n",
        "        out = self.fc1(out)\n",
        "        out = self.fc2(out)\n",
        "        return out"
      ]
    },
    {
      "cell_type": "code",
      "execution_count": 81,
      "metadata": {
        "id": "TJPjkpDNn63Y"
      },
      "outputs": [],
      "source": [
        "def train(dataLoader, model, optimizer, lossf):\n",
        "  model.train()\n",
        "  losses = np.array([])\n",
        "\n",
        "  for img, label in dataLoader:\n",
        "\n",
        "    optimizer.zero_grad()\n",
        "    t_imgs = img.to(device, dtype=tf.float)\n",
        "    t_labels = label.to(device, dtype=tf.int64)\n",
        "\n",
        "    prediction = model(t_imgs)\n",
        "    loss = lossf(prediction, t_labels)\n",
        "    losses = np.append(losses, loss.item())\n",
        "\n",
        "    loss.backward()\n",
        "\n",
        "    optimizer.step()\n",
        "\n",
        "  return np.average(losses)\n",
        "\n"
      ]
    },
    {
      "cell_type": "code",
      "execution_count": 96,
      "metadata": {
        "id": "UnJaSf2qouZC"
      },
      "outputs": [],
      "source": [
        "def test(dataLoader, model, optimizer, lossf):\n",
        "  model.eval()\n",
        "  losses, predictions, labels = np.array([]), np.array([]), np.array([])\n",
        "\n",
        "  for img, label in dataLoader:\n",
        "\n",
        "    t_imgs = img.to(device, dtype=tf.float)\n",
        "    t_labels = label.to(device, dtype=tf.int64)\n",
        "    labels = np.append(labels, t_labels.cpu())\n",
        "\n",
        "    output = model(t_imgs)\n",
        "    _, prediction = tf.max(output, 1)\n",
        "    predictions = np.append(predictions, prediction.cpu())\n",
        "\n",
        "    loss = lossf(output, t_labels)\n",
        "    losses = np.append(losses, loss.item())\n",
        "\n",
        "  return np.average(losses), predictions, labels"
      ]
    },
    {
      "cell_type": "code",
      "execution_count": 90,
      "metadata": {
        "id": "tBPgmGT4tEOk"
      },
      "outputs": [],
      "source": [
        "model = VGG16(7).to(device)\n",
        "optimizer = Adam(model.parameters(),lr = 0.0001)\n",
        "lossf = nn.CrossEntropyLoss()\n",
        "epochs = 50\n",
        "\n",
        "def run(train_dataLoader, test_dataLoader, model, optimizer, lossf, epochs):\n",
        "  for epoch in range(epochs):\n",
        "    avgLosses = train(train_dataLoader, model, optimizer, lossf)\n",
        "    print(f'{epoch} - {avgLosses}')\n",
        "\n",
        "  test_avgLosess, test_predictions, test_labels = test(test_dataLoader, model, optimizer, lossf)\n",
        "  print(classification_report(test_labels, test_predictions, digits=4))"
      ]
    },
    {
      "cell_type": "code",
      "execution_count": 99,
      "metadata": {
        "colab": {
          "base_uri": "https://localhost:8080/"
        },
        "id": "Hm4N-cwRDJp6",
        "outputId": "89381be9-08ce-4586-9552-d86c2ece70d1"
      },
      "outputs": [
        {
          "name": "stdout",
          "output_type": "stream",
          "text": [
            "              precision    recall  f1-score   support\n",
            "\n",
            "         0.0     0.8475    0.4505    0.5882       111\n",
            "         1.0     0.4369    0.5068    0.4693      1024\n",
            "         2.0     0.5579    0.5239    0.5404      1233\n",
            "         3.0     0.4752    0.5992    0.5300       958\n",
            "         4.0     0.7755    0.7401    0.7574       831\n",
            "         5.0     0.8468    0.7570    0.7994      1774\n",
            "         6.0     0.4882    0.4643    0.4760      1247\n",
            "\n",
            "    accuracy                         0.6027      7178\n",
            "   macro avg     0.6326    0.5774    0.5944      7178\n",
            "weighted avg     0.6185    0.6027    0.6075      7178\n",
            "\n"
          ]
        }
      ],
      "source": [
        "test_avgLosess, test_predictions, test_labels = test(test_dataLoader, model, optimizer, lossf)\n",
        "print(classification_report(test_labels, test_predictions, digits=4))"
      ]
    },
    {
      "cell_type": "code",
      "execution_count": 91,
      "metadata": {
        "colab": {
          "base_uri": "https://localhost:8080/",
          "height": 1000
        },
        "id": "o7--V2mmvapI",
        "outputId": "cda5206c-b65c-4ccd-f7dd-fa8d5da6d65f"
      },
      "outputs": [
        {
          "name": "stdout",
          "output_type": "stream",
          "text": [
            "0 - 1.5040892617474155\n",
            "1 - 1.2129047438668248\n",
            "2 - 1.0764052184228112\n",
            "3 - 0.9622338082317785\n",
            "4 - 0.8401948691476426\n",
            "5 - 0.7178220534510495\n",
            "6 - 0.5807699125699848\n",
            "7 - 0.45653169232115715\n",
            "8 - 0.3566974802876103\n",
            "9 - 0.27729703329984756\n",
            "10 - 0.22232931795922048\n",
            "11 - 0.18883200516646317\n",
            "12 - 0.16176331801991287\n",
            "13 - 0.14107558034559534\n",
            "14 - 0.13098028697745506\n",
            "15 - 0.1195956622219265\n",
            "16 - 0.1122997846694991\n",
            "17 - 0.1004532041144298\n",
            "18 - 0.10094071255026091\n",
            "19 - 0.10125539098909843\n",
            "20 - 0.08189186854661341\n",
            "21 - 0.09597589716290379\n",
            "22 - 0.0865359755008915\n",
            "23 - 0.08218656140970759\n",
            "24 - 0.07323813370147923\n",
            "25 - 0.07138170754456091\n",
            "26 - 0.0853114510432118\n",
            "27 - 0.07438209632858593\n",
            "28 - 0.0650492251922225\n",
            "29 - 0.06646673043698222\n",
            "30 - 0.07329824571767386\n",
            "31 - 0.06655669813448842\n",
            "32 - 0.06219976771734904\n",
            "33 - 0.06385919933138884\n",
            "34 - 0.060158184256595464\n",
            "35 - 0.057373369283474286\n",
            "36 - 0.05685246173063716\n",
            "37 - 0.061593306488367854\n",
            "38 - 0.05296063635919351\n",
            "39 - 0.05102250905409829\n",
            "40 - 0.050421688359937024\n",
            "41 - 0.057423639218820745\n",
            "42 - 0.06269080544545011\n",
            "43 - 0.04945595231841117\n",
            "44 - 0.05208793090650436\n",
            "45 - 0.0550071094879976\n",
            "46 - 0.044350841499614595\n",
            "47 - 0.051397066918836457\n",
            "48 - 0.03949264183270751\n",
            "49 - 0.047909517757198414\n"
          ]
        },
        {
          "ename": "RuntimeError",
          "evalue": "ignored",
          "output_type": "error",
          "traceback": [
            "\u001b[0;31m---------------------------------------------------------------------------\u001b[0m",
            "\u001b[0;31mRuntimeError\u001b[0m                              Traceback (most recent call last)",
            "\u001b[0;32m<ipython-input-91-e18e17b5e4c6>\u001b[0m in \u001b[0;36m<cell line: 1>\u001b[0;34m()\u001b[0m\n\u001b[0;32m----> 1\u001b[0;31m \u001b[0mrun\u001b[0m\u001b[0;34m(\u001b[0m\u001b[0mtrain_dataLoader\u001b[0m\u001b[0;34m,\u001b[0m \u001b[0mtest_dataLoader\u001b[0m\u001b[0;34m,\u001b[0m \u001b[0mmodel\u001b[0m\u001b[0;34m,\u001b[0m \u001b[0moptimizer\u001b[0m\u001b[0;34m,\u001b[0m \u001b[0mlossf\u001b[0m\u001b[0;34m,\u001b[0m \u001b[0mepochs\u001b[0m\u001b[0;34m)\u001b[0m\u001b[0;34m\u001b[0m\u001b[0;34m\u001b[0m\u001b[0m\n\u001b[0m\u001b[1;32m      2\u001b[0m \u001b[0mtf\u001b[0m\u001b[0;34m.\u001b[0m\u001b[0msave\u001b[0m\u001b[0;34m(\u001b[0m\u001b[0mmodel\u001b[0m\u001b[0;34m.\u001b[0m\u001b[0mstate_dict\u001b[0m\u001b[0;34m(\u001b[0m\u001b[0;34m)\u001b[0m\u001b[0;34m,\u001b[0m \u001b[0;34m'/content/model01'\u001b[0m\u001b[0;34m)\u001b[0m\u001b[0;34m\u001b[0m\u001b[0;34m\u001b[0m\u001b[0m\n",
            "\u001b[0;32m<ipython-input-90-77fde8b65c0a>\u001b[0m in \u001b[0;36mrun\u001b[0;34m(train_dataLoader, test_dataLoader, model, optimizer, lossf, epochs)\u001b[0m\n\u001b[1;32m      9\u001b[0m     \u001b[0mprint\u001b[0m\u001b[0;34m(\u001b[0m\u001b[0;34mf'{epoch} - {avgLosses}'\u001b[0m\u001b[0;34m)\u001b[0m\u001b[0;34m\u001b[0m\u001b[0;34m\u001b[0m\u001b[0m\n\u001b[1;32m     10\u001b[0m \u001b[0;34m\u001b[0m\u001b[0m\n\u001b[0;32m---> 11\u001b[0;31m   \u001b[0mtest_avgLosess\u001b[0m\u001b[0;34m,\u001b[0m \u001b[0mtest_predictions\u001b[0m\u001b[0;34m,\u001b[0m \u001b[0mtest_labels\u001b[0m \u001b[0;34m=\u001b[0m \u001b[0mtest\u001b[0m\u001b[0;34m(\u001b[0m\u001b[0mtest_dataLoader\u001b[0m\u001b[0;34m,\u001b[0m \u001b[0mmodel\u001b[0m\u001b[0;34m,\u001b[0m \u001b[0moptimizer\u001b[0m\u001b[0;34m,\u001b[0m \u001b[0mlossf\u001b[0m\u001b[0;34m)\u001b[0m\u001b[0;34m\u001b[0m\u001b[0;34m\u001b[0m\u001b[0m\n\u001b[0m\u001b[1;32m     12\u001b[0m   \u001b[0mprint\u001b[0m\u001b[0;34m(\u001b[0m\u001b[0mclassification_report\u001b[0m\u001b[0;34m(\u001b[0m\u001b[0mtest_labels\u001b[0m\u001b[0;34m,\u001b[0m \u001b[0mtest_predictions\u001b[0m\u001b[0;34m,\u001b[0m \u001b[0mdigits\u001b[0m\u001b[0;34m=\u001b[0m\u001b[0;36m4\u001b[0m\u001b[0;34m)\u001b[0m\u001b[0;34m)\u001b[0m\u001b[0;34m\u001b[0m\u001b[0;34m\u001b[0m\u001b[0m\n",
            "\u001b[0;32m<ipython-input-85-58729ae1ddeb>\u001b[0m in \u001b[0;36mtest\u001b[0;34m(dataLoader, model, optimizer, lossf)\u001b[0m\n\u001b[1;32m      7\u001b[0m     \u001b[0mt_imgs\u001b[0m \u001b[0;34m=\u001b[0m \u001b[0mimg\u001b[0m\u001b[0;34m.\u001b[0m\u001b[0mto\u001b[0m\u001b[0;34m(\u001b[0m\u001b[0mdevice\u001b[0m\u001b[0;34m,\u001b[0m \u001b[0mdtype\u001b[0m\u001b[0;34m=\u001b[0m\u001b[0mtf\u001b[0m\u001b[0;34m.\u001b[0m\u001b[0mfloat\u001b[0m\u001b[0;34m)\u001b[0m\u001b[0;34m\u001b[0m\u001b[0;34m\u001b[0m\u001b[0m\n\u001b[1;32m      8\u001b[0m     \u001b[0mt_labels\u001b[0m \u001b[0;34m=\u001b[0m \u001b[0mlabel\u001b[0m\u001b[0;34m.\u001b[0m\u001b[0mto\u001b[0m\u001b[0;34m(\u001b[0m\u001b[0mdevice\u001b[0m\u001b[0;34m,\u001b[0m \u001b[0mdtype\u001b[0m\u001b[0;34m=\u001b[0m\u001b[0mtf\u001b[0m\u001b[0;34m.\u001b[0m\u001b[0mint64\u001b[0m\u001b[0;34m)\u001b[0m\u001b[0;34m\u001b[0m\u001b[0;34m\u001b[0m\u001b[0m\n\u001b[0;32m----> 9\u001b[0;31m     \u001b[0mlabels\u001b[0m \u001b[0;34m=\u001b[0m \u001b[0mnp\u001b[0m\u001b[0;34m.\u001b[0m\u001b[0mappend\u001b[0m\u001b[0;34m(\u001b[0m\u001b[0mlabels\u001b[0m\u001b[0;34m,\u001b[0m \u001b[0mt_labels\u001b[0m\u001b[0;34m.\u001b[0m\u001b[0mitem\u001b[0m\u001b[0;34m(\u001b[0m\u001b[0;34m)\u001b[0m\u001b[0;34m)\u001b[0m\u001b[0;34m\u001b[0m\u001b[0;34m\u001b[0m\u001b[0m\n\u001b[0m\u001b[1;32m     10\u001b[0m \u001b[0;34m\u001b[0m\u001b[0m\n\u001b[1;32m     11\u001b[0m     \u001b[0mprediction\u001b[0m \u001b[0;34m=\u001b[0m \u001b[0mmodel\u001b[0m\u001b[0;34m(\u001b[0m\u001b[0mt_imgs\u001b[0m\u001b[0;34m)\u001b[0m\u001b[0;34m\u001b[0m\u001b[0;34m\u001b[0m\u001b[0m\n",
            "\u001b[0;31mRuntimeError\u001b[0m: a Tensor with 64 elements cannot be converted to Scalar"
          ]
        }
      ],
      "source": [
        "run(train_dataLoader, test_dataLoader, model, optimizer, lossf, epochs)\n"
      ]
    },
    {
      "cell_type": "code",
      "execution_count": 1,
      "metadata": {
        "id": "hVuDaA4fvcE4"
      },
      "outputs": [
        {
          "ename": "NameError",
          "evalue": "name 'tf' is not defined",
          "output_type": "error",
          "traceback": [
            "\u001b[0;31m---------------------------------------------------------------------------\u001b[0m",
            "\u001b[0;31mNameError\u001b[0m                                 Traceback (most recent call last)",
            "Cell \u001b[0;32mIn[1], line 1\u001b[0m\n\u001b[0;32m----> 1\u001b[0m tf\u001b[39m.\u001b[39msave(model\u001b[39m.\u001b[39mstate_dict(), \u001b[39m'\u001b[39m\u001b[39m/content/model01\u001b[39m\u001b[39m'\u001b[39m)\n",
            "\u001b[0;31mNameError\u001b[0m: name 'tf' is not defined"
          ]
        }
      ],
      "source": [
        "tf.save(model.state_dict(), '/content/model01')"
      ]
    },
    {
      "cell_type": "code",
      "execution_count": null,
      "metadata": {
        "id": "ZLj3NmwE6dXZ"
      },
      "outputs": [],
      "source": []
    }
  ],
  "metadata": {
    "accelerator": "GPU",
    "colab": {
      "gpuType": "T4",
      "provenance": []
    },
    "kernelspec": {
      "display_name": "Python 3",
      "name": "python3"
    },
    "language_info": {
      "codemirror_mode": {
        "name": "ipython",
        "version": 3
      },
      "file_extension": ".py",
      "mimetype": "text/x-python",
      "name": "python",
      "nbconvert_exporter": "python",
      "pygments_lexer": "ipython3",
      "version": "3.10.6"
    }
  },
  "nbformat": 4,
  "nbformat_minor": 0
}
